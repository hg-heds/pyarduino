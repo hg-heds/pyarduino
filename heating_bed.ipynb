{
 "cells": [
  {
   "cell_type": "markdown",
   "metadata": {},
   "source": [
    "## Firmdata"
   ]
  },
  {
   "cell_type": "markdown",
   "metadata": {},
   "source": [
    "- Install firmdata (pip)\n",
    "- Upload firmdata to Arduino\n",
    "    - File -> Examples -> Firmdata -> StandardFirmdata\n"
   ]
  },
  {
   "cell_type": "code",
   "execution_count": null,
   "metadata": {},
   "outputs": [],
   "source": [
    "import pyfirmata\n",
    "import time\n",
    "\n",
    "board = pyfirmata.Arduino('<port_name>')\n",
    "it = pyfirmata.util.Iterator(board)\n",
    "it.start()\n",
    "\n",
    "digital_input = board.get_pin('d:10:i')\n",
    "analog_input = board.get_pin('a:0:i')\n",
    "led = board.get_pin('d:13:o')\n",
    "\n",
    "tm = time.time()\n",
    "while time.time() - tm < 20:\n",
    "    led.write(1)\n",
    "    time.sleep(1)\n",
    "    led.write(0)\n",
    "    time.sleep(1)\n",
    "    analog_value = analog_input.read()\n",
    "    print(analog_value)"
   ]
  },
  {
   "cell_type": "markdown",
   "metadata": {},
   "source": [
    "## IDEA"
   ]
  },
  {
   "cell_type": "code",
   "execution_count": null,
   "metadata": {},
   "outputs": [],
   "source": [
    "import pyfirmata, time, matplotlib.pyplot as plt, numpy as np"
   ]
  },
  {
   "cell_type": "code",
   "execution_count": null,
   "metadata": {},
   "outputs": [],
   "source": [
    "board = pyfirmata.Arduino('<port_name>')\n",
    "it = pyfirmata.util.Iterator(board)\n",
    "it.start()\n",
    "\n",
    "thermistor = board.get_pin('a:0:i')\n",
    "thermocouple = board.get_pin('a:1:i')\n",
    "values = []\n",
    "tm = time.time()\n",
    "while time.time() - tm < 20:\n",
    "    values.append([time.time(),thermistor.read(),thermocouple.read()])\n",
    "    time.sleep(0.1)\n"
   ]
  },
  {
   "cell_type": "code",
   "execution_count": null,
   "metadata": {},
   "outputs": [],
   "source": [
    "vals = np.array(values)"
   ]
  },
  {
   "cell_type": "code",
   "execution_count": null,
   "metadata": {},
   "outputs": [],
   "source": [
    "import matplotlib.pyplot as plt \n",
    "plt.plot(vals[:,0],vals[:,1])"
   ]
  }
 ],
 "metadata": {
  "kernelspec": {
   "display_name": "Python 3.10.6 64-bit (microsoft store)",
   "language": "python",
   "name": "python3"
  },
  "language_info": {
   "codemirror_mode": {
    "name": "ipython",
    "version": 3
   },
   "file_extension": ".py",
   "mimetype": "text/x-python",
   "name": "python",
   "nbconvert_exporter": "python",
   "pygments_lexer": "ipython3",
   "version": "3.10.6"
  },
  "orig_nbformat": 4,
  "vscode": {
   "interpreter": {
    "hash": "b1ad5e8ad7d380c83bc85e3e9d9545e0ca7f1df9662bca2fd259e79a6cf84242"
   }
  }
 },
 "nbformat": 4,
 "nbformat_minor": 2
}
