{
 "cells": [
  {
   "cell_type": "markdown",
   "metadata": {},
   "source": [
    "## Firmata"
   ]
  },
  {
   "cell_type": "markdown",
   "metadata": {},
   "source": [
    "- Install firmdata (pip)\n",
    "- Upload firmdata to Arduino\n",
    "    - File -> Examples -> Firmdata -> StandardFirmdata"
   ]
  },
  {
   "cell_type": "code",
   "execution_count": null,
   "metadata": {},
   "outputs": [],
   "source": [
    "import pyfirmata\n",
    "import time\n",
    "\n",
    "board = pyfirmata.Arduino('<port_name>')\n",
    "it = pyfirmata.util.Iterator(board)\n",
    "it.start()\n",
    "\n",
    "digital_input = board.get_pin('d:10:i')\n",
    "analog_input = board.get_pin('a:0:i')\n",
    "led = board.get_pin('d:13:o')\n",
    "\n",
    "tm = time.time()\n",
    "while time.time() - tm < 20:\n",
    "    led.write(1)\n",
    "    time.sleep(1)\n",
    "    led.write(0)\n",
    "    time.sleep(1)\n",
    "    analog_value = analog_input.read()\n",
    "    print(analog_value)"
   ]
  },
  {
   "cell_type": "markdown",
   "metadata": {},
   "source": [
    "## IDEA"
   ]
  },
  {
   "cell_type": "code",
   "execution_count": 1,
   "metadata": {},
   "outputs": [],
   "source": [
    "import pyfirmata, time, matplotlib.pyplot as plt, numpy as np "
   ]
  },
  {
   "cell_type": "code",
   "execution_count": 20,
   "metadata": {},
   "outputs": [],
   "source": [
    "board = pyfirmata.Arduino('COM3')\n",
    "it = pyfirmata.util.Iterator(board)\n",
    "it.start() "
   ]
  },
  {
   "cell_type": "code",
   "execution_count": 21,
   "metadata": {},
   "outputs": [],
   "source": [
    "thermistor = board.get_pin('a:0:i') \n",
    "thermocouple = board.get_pin('a:1:i')"
   ]
  },
  {
   "cell_type": "code",
   "execution_count": 32,
   "metadata": {},
   "outputs": [],
   "source": [
    "res = 9.92 "
   ]
  },
  {
   "cell_type": "code",
   "execution_count": 33,
   "metadata": {},
   "outputs": [],
   "source": [
    "values = []\n",
    "tm = time.time()\n",
    "while time.time() - tm < 10:\n",
    "    values.append([time.time()-tm,res * (1/thermistor.read()-1),thermocouple.read()])\n",
    "    time.sleep(0.1)\n",
    "vals = np.array(values)"
   ]
  },
  {
   "cell_type": "code",
   "execution_count": 34,
   "metadata": {},
   "outputs": [
    {
     "data": {
      "text/plain": [
       "[<matplotlib.lines.Line2D at 0x2902664ec70>,\n",
       " <matplotlib.lines.Line2D at 0x290255b6850>]"
      ]
     },
     "execution_count": 34,
     "metadata": {},
     "output_type": "execute_result"
    },
    {
     "data": {
      "image/png": "[encoded data removed]",
      "text/plain": [
       "<Figure size 432x288 with 1 Axes>"
      ]
     },
     "metadata": {
      "needs_background": "light"
     },
     "output_type": "display_data"
    }
   ],
   "source": [
    "plt.plot(vals[:,0],vals[:,1],'g-',vals[:,0],vals[:,2],'b--')"
   ]
  },
  {
   "cell_type": "code",
   "execution_count": 36,
   "metadata": {},
   "outputs": [
    {
     "data": {
      "text/plain": [
       "0.0"
      ]
     },
     "execution_count": 36,
     "metadata": {},
     "output_type": "execute_result"
    }
   ],
   "source": [
    "min(vals[:,1])"
   ]
  },
  {
   "cell_type": "code",
   "execution_count": 19,
   "metadata": {},
   "outputs": [],
   "source": [
    "board.exit()"
   ]
  },
  {
   "cell_type": "markdown",
   "metadata": {},
   "source": [
    "## meh"
   ]
  },
  {
   "cell_type": "code",
   "execution_count": 8,
   "metadata": {},
   "outputs": [],
   "source": [
    "values = [\n",
    "    [1,1],\n",
    "    [3,9],\n",
    "    [5,25],\n",
    "    [7,49],\n",
    "    [9,81]\n",
    "]"
   ]
  },
  {
   "cell_type": "code",
   "execution_count": 11,
   "metadata": {},
   "outputs": [],
   "source": [
    "x = np.linspace(1,9,200)\n",
    "y = x*x"
   ]
  },
  {
   "cell_type": "code",
   "execution_count": 17,
   "metadata": {},
   "outputs": [],
   "source": [
    "import matplotlib.pyplot as plt "
   ]
  },
  {
   "cell_type": "code",
   "execution_count": 28,
   "metadata": {},
   "outputs": [
    {
     "data": {
      "text/plain": [
       "[<matplotlib.lines.Line2D at 0x1bde79540a0>,\n",
       " <matplotlib.lines.Line2D at 0x1bde79541c0>]"
      ]
     },
     "execution_count": 28,
     "metadata": {},
     "output_type": "execute_result"
    },
    {
     "data": {
      "image/png": "[encoded data removed]",
      "text/plain": [
       "<Figure size 432x288 with 1 Axes>"
      ]
     },
     "metadata": {
      "needs_background": "light"
     },
     "output_type": "display_data"
    }
   ],
   "source": [
    "plt.plot(x,y,'r-',vals[:,0],vals[:,1],'g--')"
   ]
  },
  {
   "cell_type": "code",
   "execution_count": 1,
   "metadata": {},
   "outputs": [],
   "source": [
    "import keyboard, time as t"
   ]
  },
  {
   "cell_type": "code",
   "execution_count": 2,
   "metadata": {},
   "outputs": [],
   "source": [
    "# from os import mkdir\n",
    "# mkdir('img')"
   ]
  },
  {
   "cell_type": "code",
   "execution_count": 3,
   "metadata": {},
   "outputs": [],
   "source": [
    "import cv2\n",
    "vidcap = cv2.VideoCapture('vid.mp4')\n",
    "success,image = vidcap.read()\n",
    "count = 0\n",
    "while success:\n",
    "    if not count%30:\n",
    "        cv2.imwrite(\"img/frame{}.jpg\".format(int(count/30)), image)     # save frame as JPEG file      \n",
    "    success,image = vidcap.read()\n",
    "    count += 1"
   ]
  },
  {
   "cell_type": "code",
   "execution_count": 5,
   "metadata": {},
   "outputs": [],
   "source": [
    "vidcap.release()"
   ]
  },
  {
   "cell_type": "code",
   "execution_count": 4,
   "metadata": {},
   "outputs": [
    {
     "data": {
      "text/plain": [
       "'\\n86200 23\\n79600 24\\n67200 27\\n57250 29\\n52140 32\\n47430 34\\n39300 39\\n36920 41\\n33700 44\\n27350 50\\n23730 55\\n21310 58\\n17200 65\\n14820 70\\n12870 73\\n11730 78\\n10070 83\\n9450 85\\n8500 89\\n7090 95\\n6230 99\\n5486 104\\n4739 109\\n4387 112\\n3958 115\\n3544 118\\n3121 120\\n2919 124\\n2706 128\\n2429 131\\n2213 135\\n2014 138\\n1864 140\\n1751 142\\n1565 146\\n1500 148\\n1449 150\\n'"
      ]
     },
     "execution_count": 4,
     "metadata": {},
     "output_type": "execute_result"
    }
   ],
   "source": [
    "'''\n",
    "86200 23\n",
    "79600 24\n",
    "67200 27\n",
    "57250 29\n",
    "52140 32\n",
    "47430 34\n",
    "39300 39\n",
    "36920 41\n",
    "33700 44\n",
    "27350 50\n",
    "23730 55\n",
    "21310 58\n",
    "17200 65\n",
    "14820 70\n",
    "12870 73\n",
    "11730 78\n",
    "10070 83\n",
    "9450 85\n",
    "8500 89\n",
    "7090 95\n",
    "6230 99\n",
    "5486 104\n",
    "4739 109\n",
    "4387 112\n",
    "3958 115\n",
    "3544 118\n",
    "3121 120\n",
    "2919 124\n",
    "2706 128\n",
    "2429 131\n",
    "2213 135\n",
    "2014 138\n",
    "1864 140\n",
    "1751 142\n",
    "1565 146\n",
    "1500 148\n",
    "1449 150\n",
    "'''"
   ]
  },
  {
   "cell_type": "code",
   "execution_count": null,
   "metadata": {},
   "outputs": [],
   "source": []
  },
  {
   "cell_type": "markdown",
   "metadata": {},
   "source": [
    "## DELETE"
   ]
  },
  {
   "cell_type": "code",
   "execution_count": 177,
   "metadata": {},
   "outputs": [],
   "source": [
    "n = 20"
   ]
  },
  {
   "cell_type": "code",
   "execution_count": 178,
   "metadata": {},
   "outputs": [],
   "source": [
    "a = []\n",
    "for i in range(n+1):\n",
    "    for j in range(i+1):\n",
    "        a.append((i,j))"
   ]
  },
  {
   "cell_type": "code",
   "execution_count": 179,
   "metadata": {},
   "outputs": [],
   "source": [
    "thread_count = 8"
   ]
  },
  {
   "cell_type": "code",
   "execution_count": 180,
   "metadata": {},
   "outputs": [],
   "source": [
    "length = int((len(a)-len(a)%thread_count)/thread_count) + 1"
   ]
  },
  {
   "cell_type": "code",
   "execution_count": 181,
   "metadata": {},
   "outputs": [],
   "source": [
    "def partition(lst, size):\n",
    "    for i in range(0, len(lst), size):\n",
    "        yield lst[i : i+size]"
   ]
  },
  {
   "cell_type": "code",
   "execution_count": 182,
   "metadata": {},
   "outputs": [],
   "source": [
    "p = list(partition(a,length))"
   ]
  },
  {
   "cell_type": "code",
   "execution_count": 74,
   "metadata": {},
   "outputs": [
    {
     "name": "stderr",
     "output_type": "stream",
     "text": [
      "18:36:44: Main    : create and start thread 0.\n",
      "18:36:44: Thread 0: starting\n",
      "18:36:44: Main    : create and start thread 1.\n",
      "18:36:44: Thread 1: starting\n",
      "18:36:44: Main    : create and start thread 2.\n",
      "18:36:44: Thread 2: starting\n",
      "18:36:44: Main    : before joining thread 0.\n",
      "18:36:46: Thread 1: finishing\n",
      "18:36:46: Thread 0: finishing\n",
      "18:36:46: Thread 2: finishing\n",
      "18:36:46: Main    : thread 0 done\n",
      "18:36:46: Main    : before joining thread 1.\n",
      "18:36:46: Main    : thread 1 done\n",
      "18:36:46: Main    : before joining thread 2.\n",
      "18:36:46: Main    : thread 2 done\n"
     ]
    }
   ],
   "source": [
    "import logging\n",
    "import threading\n",
    "import time\n",
    "\n",
    "def thread_function(name):\n",
    "    logging.info(\"Thread %s: starting\", name)\n",
    "    time.sleep(2)\n",
    "    logging.info(\"Thread %s: finishing\", name)\n",
    "\n",
    "if __name__ == \"__main__\":\n",
    "    format = \"%(asctime)s: %(message)s\"\n",
    "    logging.basicConfig(format=format, level=logging.INFO,\n",
    "                        datefmt=\"%H:%M:%S\")\n",
    "\n",
    "    threads = list()\n",
    "    for index in range(thread_count):\n",
    "        logging.info(\"Main    : create and start thread %d.\", index)\n",
    "        x = threading.Thread(target=thread_function, args=(index,))\n",
    "        threads.append(x)\n",
    "        x.start()\n",
    "\n",
    "    for index, thread in enumerate(threads):\n",
    "        logging.info(\"Main    : before joining thread %d.\", index)\n",
    "        thread.join()\n",
    "        logging.info(\"Main    : thread %d done\", index)\n"
   ]
  },
  {
   "cell_type": "code",
   "execution_count": 190,
   "metadata": {},
   "outputs": [],
   "source": [
    "sm = []\n",
    "for j in p:\n",
    "    sum = 0\n",
    "    for i in j:\n",
    "        sum += i[0]\n",
    "        sum += i[1]\n",
    "    sm.append(sum)"
   ]
  },
  {
   "cell_type": "code",
   "execution_count": 191,
   "metadata": {},
   "outputs": [
    {
     "data": {
      "text/plain": [
       "[175, 353, 474, 572, 646, 744, 781, 875]"
      ]
     },
     "execution_count": 191,
     "metadata": {},
     "output_type": "execute_result"
    }
   ],
   "source": [
    "sm"
   ]
  },
  {
   "cell_type": "code",
   "execution_count": 195,
   "metadata": {},
   "outputs": [
    {
     "data": {
      "text/plain": [
       "3.2685714285714287"
      ]
     },
     "execution_count": 195,
     "metadata": {},
     "output_type": "execute_result"
    }
   ],
   "source": [
    "572/175"
   ]
  },
  {
   "cell_type": "code",
   "execution_count": null,
   "metadata": {},
   "outputs": [],
   "source": []
  },
  {
   "cell_type": "markdown",
   "metadata": {},
   "source": [
    "## machine"
   ]
  },
  {
   "cell_type": "code",
   "execution_count": 5,
   "metadata": {},
   "outputs": [
    {
     "ename": "ModuleNotFoundError",
     "evalue": "No module named 'termios'",
     "output_type": "error",
     "traceback": [
      "\u001b[1;31m---------------------------------------------------------------------------\u001b[0m",
      "\u001b[1;31mModuleNotFoundError\u001b[0m                       Traceback (most recent call last)",
      "\u001b[1;32mc:\\Users\\hugoe\\Git\\pyarduino\\heating_bed.ipynb Cell 21'\u001b[0m in \u001b[0;36m<cell line: 1>\u001b[1;34m()\u001b[0m\n\u001b[1;32m----> <a href='vscode-notebook-cell:/c%3A/Users/hugoe/Git/pyarduino/heating_bed.ipynb#ch0000020?line=0'>1</a>\u001b[0m \u001b[39mimport\u001b[39;00m \u001b[39mperiphery\u001b[39;00m\n",
      "File \u001b[1;32mc:\\Users\\hugoe\\AppData\\Local\\Programs\\Python\\Python39\\lib\\site-packages\\periphery\\__init__.py:46\u001b[0m, in \u001b[0;36m<module>\u001b[1;34m\u001b[0m\n\u001b[0;32m     44\u001b[0m \u001b[39mfrom\u001b[39;00m \u001b[39mperiphery\u001b[39;00m\u001b[39m.\u001b[39;00m\u001b[39mi2c\u001b[39;00m \u001b[39mimport\u001b[39;00m I2C, I2CError\n\u001b[0;32m     45\u001b[0m \u001b[39mfrom\u001b[39;00m \u001b[39mperiphery\u001b[39;00m\u001b[39m.\u001b[39;00m\u001b[39mmmio\u001b[39;00m \u001b[39mimport\u001b[39;00m MMIO, MMIOError\n\u001b[1;32m---> 46\u001b[0m \u001b[39mfrom\u001b[39;00m \u001b[39mperiphery\u001b[39;00m\u001b[39m.\u001b[39;00m\u001b[39mserial\u001b[39;00m \u001b[39mimport\u001b[39;00m Serial, SerialError\n",
      "File \u001b[1;32mc:\\Users\\hugoe\\AppData\\Local\\Programs\\Python\\Python39\\lib\\site-packages\\periphery\\serial.py:4\u001b[0m, in \u001b[0;36m<module>\u001b[1;34m\u001b[0m\n\u001b[0;32m      2\u001b[0m \u001b[39mimport\u001b[39;00m \u001b[39mfcntl\u001b[39;00m\n\u001b[0;32m      3\u001b[0m \u001b[39mimport\u001b[39;00m \u001b[39marray\u001b[39;00m\n\u001b[1;32m----> 4\u001b[0m \u001b[39mimport\u001b[39;00m \u001b[39mtermios\u001b[39;00m\n\u001b[0;32m      5\u001b[0m \u001b[39mimport\u001b[39;00m \u001b[39mselect\u001b[39;00m\n\u001b[0;32m      8\u001b[0m \u001b[39mclass\u001b[39;00m \u001b[39mSerialError\u001b[39;00m(\u001b[39mIOError\u001b[39;00m):\n",
      "\u001b[1;31mModuleNotFoundError\u001b[0m: No module named 'termios'"
     ]
    }
   ],
   "source": [
    "import periphery"
   ]
  },
  {
   "cell_type": "code",
   "execution_count": 4,
   "metadata": {},
   "outputs": [],
   "source": [
    "from importlib import reload"
   ]
  },
  {
   "cell_type": "code",
   "execution_count": null,
   "metadata": {},
   "outputs": [],
   "source": [
    "reload"
   ]
  }
 ],
 "metadata": {
  "kernelspec": {
   "display_name": "Python 3.9.13 64-bit",
   "language": "python",
   "name": "python3"
  },
  "language_info": {
   "codemirror_mode": {
    "name": "ipython",
    "version": 3
   },
   "file_extension": ".py",
   "mimetype": "text/x-python",
   "name": "python",
   "nbconvert_exporter": "python",
   "pygments_lexer": "ipython3",
   "version": "3.9.13"
  },
  "orig_nbformat": 4,
  "vscode": {
   "interpreter": {
    "hash": "2021e1dbe3c4a629ede4a9cfd2b72e8904066f9df35cce6c34508ec747951811"
   }
  }
 },
 "nbformat": 4,
 "nbformat_minor": 2
}
