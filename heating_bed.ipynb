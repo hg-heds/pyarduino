{
 "cells": [
  {
   "cell_type": "markdown",
   "metadata": {},
   "source": [
    "## Firmdata"
   ]
  },
  {
   "cell_type": "markdown",
   "metadata": {},
   "source": [
    "- Install firmdata (pip)\n",
    "- Upload firmdata to Arduino\n",
    "    - File -> Examples -> Firmdata -> StandardFirmdata"
   ]
  },
  {
   "cell_type": "code",
   "execution_count": null,
   "metadata": {},
   "outputs": [],
   "source": [
    "import pyfirmata\n",
    "import time\n",
    "\n",
    "board = pyfirmata.Arduino('<port_name>')\n",
    "it = pyfirmata.util.Iterator(board)\n",
    "it.start()\n",
    "\n",
    "digital_input = board.get_pin('d:10:i')\n",
    "analog_input = board.get_pin('a:0:i')\n",
    "led = board.get_pin('d:13:o')\n",
    "\n",
    "tm = time.time()\n",
    "while time.time() - tm < 20:\n",
    "    led.write(1)\n",
    "    time.sleep(1)\n",
    "    led.write(0)\n",
    "    time.sleep(1)\n",
    "    analog_value = analog_input.read()\n",
    "    print(analog_value)"
   ]
  },
  {
   "cell_type": "markdown",
   "metadata": {},
   "source": [
    "## IDEA"
   ]
  },
  {
   "cell_type": "code",
   "execution_count": null,
   "metadata": {},
   "outputs": [],
   "source": [
    "import pyfirmata, time, matplotlib.pyplot as plt, numpy as np "
   ]
  },
  {
   "cell_type": "code",
   "execution_count": null,
   "metadata": {},
   "outputs": [],
   "source": [
    "board = pyfirmata.Arduino('<port_name>')\n",
    "it = pyfirmata.util.Iterator(board)\n",
    "it.start()\n",
    "\n",
    "thermistor = board.get_pin('a:0:i')\n",
    "thermocouple = board.get_pin('a:1:i')\n",
    "values = []\n",
    "tm = time.time()\n",
    "while time.time() - tm < 20:\n",
    "    values.append([time.time()-tm,thermistor.read(),thermocouple.read()])\n",
    "    time.sleep(0.1)\n",
    "vals = np.array(values)"
   ]
  },
  {
   "cell_type": "code",
   "execution_count": null,
   "metadata": {},
   "outputs": [],
   "source": [
    "plt.plot(vals[:,0],vals[:,1],'g-',vals[:,0],vals[:,2],'b--')"
   ]
  },
  {
   "cell_type": "code",
   "execution_count": null,
   "metadata": {},
   "outputs": [],
   "source": []
  },
  {
   "cell_type": "markdown",
   "metadata": {},
   "source": [
    "## meh"
   ]
  },
  {
   "cell_type": "code",
   "execution_count": 8,
   "metadata": {},
   "outputs": [],
   "source": [
    "values = [\n",
    "    [1,1],\n",
    "    [3,9],\n",
    "    [5,25],\n",
    "    [7,49],\n",
    "    [9,81]\n",
    "]"
   ]
  },
  {
   "cell_type": "code",
   "execution_count": 11,
   "metadata": {},
   "outputs": [],
   "source": [
    "x = np.linspace(1,9,200)\n",
    "y = x*x"
   ]
  },
  {
   "cell_type": "code",
   "execution_count": 17,
   "metadata": {},
   "outputs": [],
   "source": [
    "import matplotlib.pyplot as plt "
   ]
  },
  {
   "cell_type": "code",
   "execution_count": 28,
   "metadata": {},
   "outputs": [
    {
     "data": {
      "text/plain": [
       "[<matplotlib.lines.Line2D at 0x1bde79540a0>,\n",
       " <matplotlib.lines.Line2D at 0x1bde79541c0>]"
      ]
     },
     "execution_count": 28,
     "metadata": {},
     "output_type": "execute_result"
    },
    {
     "data": {
      "image/png": "[encoded data removed]",
      "text/plain": [
       "<Figure size 432x288 with 1 Axes>"
      ]
     },
     "metadata": {
      "needs_background": "light"
     },
     "output_type": "display_data"
    }
   ],
   "source": [
    "plt.plot(x,y,'r-',vals[:,0],vals[:,1],'g--')"
   ]
  },
  {
   "cell_type": "code",
   "execution_count": 1,
   "metadata": {},
   "outputs": [],
   "source": [
    "import keyboard, time as t"
   ]
  },
  {
   "cell_type": "code",
   "execution_count": 2,
   "metadata": {},
   "outputs": [],
   "source": [
    "# from os import mkdir\n",
    "# mkdir('img')"
   ]
  },
  {
   "cell_type": "code",
   "execution_count": 3,
   "metadata": {},
   "outputs": [],
   "source": [
    "import cv2\n",
    "vidcap = cv2.VideoCapture('vid.mp4')\n",
    "success,image = vidcap.read()\n",
    "count = 0\n",
    "while success:\n",
    "    if not count%30:\n",
    "        cv2.imwrite(\"img/frame{}.jpg\".format(int(count/30)), image)     # save frame as JPEG file      \n",
    "    success,image = vidcap.read()\n",
    "    count += 1"
   ]
  },
  {
   "cell_type": "code",
   "execution_count": 5,
   "metadata": {},
   "outputs": [],
   "source": [
    "vidcap.release()"
   ]
  },
  {
   "cell_type": "code",
   "execution_count": 4,
   "metadata": {},
   "outputs": [
    {
     "data": {
      "text/plain": [
       "'\\n86200 23\\n79600 24\\n67200 27\\n57250 29\\n52140 32\\n47430 34\\n39300 39\\n36920 41\\n33700 44\\n27350 50\\n23730 55\\n21310 58\\n17200 65\\n14820 70\\n12870 73\\n11730 78\\n10070 83\\n9450 85\\n8500 89\\n7090 95\\n6230 99\\n5486 104\\n4739 109\\n4387 112\\n3958 115\\n3544 118\\n3121 120\\n2919 124\\n2706 128\\n2429 131\\n2213 135\\n2014 138\\n1864 140\\n1751 142\\n1565 146\\n1500 148\\n1449 150\\n'"
      ]
     },
     "execution_count": 4,
     "metadata": {},
     "output_type": "execute_result"
    }
   ],
   "source": [
    "'''\n",
    "86200 23\n",
    "79600 24\n",
    "67200 27\n",
    "57250 29\n",
    "52140 32\n",
    "47430 34\n",
    "39300 39\n",
    "36920 41\n",
    "33700 44\n",
    "27350 50\n",
    "23730 55\n",
    "21310 58\n",
    "17200 65\n",
    "14820 70\n",
    "12870 73\n",
    "11730 78\n",
    "10070 83\n",
    "9450 85\n",
    "8500 89\n",
    "7090 95\n",
    "6230 99\n",
    "5486 104\n",
    "4739 109\n",
    "4387 112\n",
    "3958 115\n",
    "3544 118\n",
    "3121 120\n",
    "2919 124\n",
    "2706 128\n",
    "2429 131\n",
    "2213 135\n",
    "2014 138\n",
    "1864 140\n",
    "1751 142\n",
    "1565 146\n",
    "1500 148\n",
    "1449 150\n",
    "'''"
   ]
  },
  {
   "cell_type": "code",
   "execution_count": null,
   "metadata": {},
   "outputs": [],
   "source": []
  }
 ],
 "metadata": {
  "kernelspec": {
   "display_name": "Python 3.10.6 64-bit (microsoft store)",
   "language": "python",
   "name": "python3"
  },
  "language_info": {
   "codemirror_mode": {
    "name": "ipython",
    "version": 3
   },
   "file_extension": ".py",
   "mimetype": "text/x-python",
   "name": "python",
   "nbconvert_exporter": "python",
   "pygments_lexer": "ipython3",
   "version": "3.10.6"
  },
  "orig_nbformat": 4,
  "vscode": {
   "interpreter": {
    "hash": "b1ad5e8ad7d380c83bc85e3e9d9545e0ca7f1df9662bca2fd259e79a6cf84242"
   }
  }
 },
 "nbformat": 4,
 "nbformat_minor": 2
}
